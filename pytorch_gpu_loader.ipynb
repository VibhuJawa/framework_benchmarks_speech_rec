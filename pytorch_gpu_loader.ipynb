{
 "cells": [
  {
   "cell_type": "code",
   "execution_count": 1,
   "metadata": {
    "collapsed": true
   },
   "outputs": [],
   "source": [
    "import pickle\n",
    "import os\n",
    "import numpy as np\n",
    "import torch\n",
    "from torch.utils.data import Dataset, DataLoader\n",
    "\n",
    "import torch.multiprocessing as multiprocessing\n",
    "\n",
    "\n",
    "from torch import nn as nn\n",
    "from torch import optim\n",
    "from torch import functional as F"
   ]
  },
  {
   "cell_type": "code",
   "execution_count": 2,
   "metadata": {
    "collapsed": true
   },
   "outputs": [],
   "source": [
    "input_dir = 'data/pickles/'"
   ]
  },
  {
   "cell_type": "code",
   "execution_count": 3,
   "metadata": {},
   "outputs": [],
   "source": [
    "label_2_num_mapping = {}\n",
    "num_2_label_ar= []\n",
    "data = {\"x\":[],\"y\":[]}\n",
    "\n",
    "label_num = 0\n",
    "\n",
    "for label in os.listdir(input_dir):\n",
    "    if label == '.DS_Store':\n",
    "        continue\n",
    "    p_file = input_dir + label\n",
    "    label_2_num_mapping[label]=label_num\n",
    "    num_2_label_ar.append(label)\n",
    "\n",
    "    with open(p_file, 'rb') as f:\n",
    "        label_examples  = pickle.load(f)\n",
    "        # data dim = num_examples * time * frequency\n",
    "        label_ar = [np.swapaxes(np.array(example),0,1) for example in label_examples]\n",
    "        data['x'].extend(label_ar)\n",
    "        y_labels = [label_num for i in range(0,len(label_examples))]\n",
    "        data['y'].extend(y_labels)\n",
    "   \n",
    "    label_num+=1\n",
    "          "
   ]
  },
  {
   "cell_type": "markdown",
   "metadata": {},
   "source": [
    "# Samping function CPU"
   ]
  },
  {
   "cell_type": "code",
   "execution_count": 4,
   "metadata": {
    "collapsed": true
   },
   "outputs": [],
   "source": [
    "def sample_batch(n, X,Y):\n",
    "    \"\"\"\n",
    "    takes input and returns padded sample\n",
    "    n= num_samples\n",
    "    X = input_featurs_list\n",
    "    Y = label_list\n",
    "    \"\"\"\n",
    "    label_ids = np.random.randint(low = 0,high = len(X), size=n)\n",
    "    frequency = len(X[0][0])\n",
    "    sampled_X = [X[label_id] for label_id in label_ids]\n",
    "    sampled_y = [Y[label_id] for label_id in label_ids]\n",
    "    padded_X = []\n",
    "    \n",
    "    max_batch_len = max([len(x) for x in sampled_X])\n",
    "    for x in sampled_X:\n",
    "        padding_time_count = max_batch_len-len(x)\n",
    "        if padding_time_count!=0:\n",
    "            x_padded = np.zeros(shape = (max_batch_len,frequency))\n",
    "            x_padded[:x.shape[0],:x.shape[1]] = x\n",
    "            padded_X.append(x_padded)\n",
    "        else:\n",
    "            padded_X.append(x)\n",
    "        \n",
    "    return np.asarray(padded_X),np.asarray(sampled_y)"
   ]
  },
  {
   "cell_type": "markdown",
   "metadata": {},
   "source": [
    "# Sampling using GPU"
   ]
  },
  {
   "cell_type": "code",
   "execution_count": 5,
   "metadata": {},
   "outputs": [],
   "source": [
    "class WavesDatset(Dataset):\n",
    "    \"\"\"Loads the wavedataset\"\"\"\n",
    "\n",
    "    def __init__(self, data, transform=None):\n",
    "        \"\"\"\n",
    "        Args:\n",
    "            csv_file (string): Path to the csv file with annotations.\n",
    "            root_dir (string): Directory with all the images.\n",
    "            transform (callable, optional): Optional transform to be applied\n",
    "                on a sample.\n",
    "        \"\"\"\n",
    "        self.data = data\n",
    "        self.transform = transform\n",
    "        \n",
    "\n",
    "    def __len__(self):\n",
    "        return len(self.data['x'])\n",
    "\n",
    "    def __getitem__(self, idx):\n",
    "      \n",
    "        sample = {'x': data['x'][idx], 'label': data['y'][idx]}\n",
    "\n",
    "        if self.transform:\n",
    "            sample = self.transform(sample)\n",
    "\n",
    "        return sample\n",
    "\n",
    "class ToTensor(object):\n",
    "    \"\"\"Convert ndarrays in sample to Tensors.\"\"\"\n",
    "\n",
    "    def __call__(self, sample):\n",
    "        _inputs, label = sample['x'], sample['label']\n",
    "        return {'x': torch.from_numpy(_inputs).float(),\n",
    "                'label': torch.from_numpy(np.array(label))\n",
    "               }\n"
   ]
  },
  {
   "cell_type": "code",
   "execution_count": 6,
   "metadata": {
    "collapsed": true
   },
   "outputs": [],
   "source": [
    "waves_dataset = WavesDatset(data,ToTensor())"
   ]
  },
  {
   "cell_type": "code",
   "execution_count": 8,
   "metadata": {},
   "outputs": [
    {
     "name": "stdout",
     "output_type": "stream",
     "text": [
      "0 torch.Size([44, 20]) tensor(0)\n"
     ]
    }
   ],
   "source": [
    "# cuda check\n",
    "for i in range(len(waves_dataset)):\n",
    "    sample = waves_dataset[i]\n",
    "    print(i, sample['x'].shape, sample['label'])\n",
    "    break"
   ]
  },
  {
   "cell_type": "code",
   "execution_count": 16,
   "metadata": {
    "collapsed": true
   },
   "outputs": [],
   "source": [
    "wave_dataloader = DataLoader(waves_dataset, batch_size=4,shuffle=True)"
   ]
  },
  {
   "cell_type": "markdown",
   "metadata": {},
   "source": [
    "# Model"
   ]
  },
  {
   "cell_type": "code",
   "execution_count": 17,
   "metadata": {
    "collapsed": true
   },
   "outputs": [],
   "source": [
    "class Word_Predictor_RNN(nn.Module):\n",
    "    def __init__(self, input_freq=20,hidden_size=256,linear_output_size = 128, n_categories=30):\n",
    "        super().__init__()\n",
    "        self.rnn = nn.LSTM(input_freq, hidden_size, batch_first=True, bidirectional=True)\n",
    "        self.linear1 = nn.Linear(hidden_size, linear_output_size)\n",
    "        self.linear2 = nn.Linear(linear_output_size, n_categories)\n",
    "\n",
    "    def forward(self, x, initial_states):\n",
    "        # input now stores floats and has shape [length, batch_size, embedding_size]\n",
    "        self.rnn.flatten_parameters()\n",
    "        x, final_states = self.rnn(x, initial_states)  # TODO\n",
    "        x = final_states[0][0] * final_states[0][1]\n",
    "        self.rnn.flatten_parameters()\n",
    "        x = nn.functional.relu6(self.linear1(x))\n",
    "        x = self.linear2(x)\n",
    "        return x\n",
    "\n"
   ]
  },
  {
   "cell_type": "markdown",
   "metadata": {},
   "source": [
    "# Model  Hyper Parameters"
   ]
  },
  {
   "cell_type": "code",
   "execution_count": 55,
   "metadata": {
    "collapsed": true
   },
   "outputs": [],
   "source": [
    "n_categories = len(label_2_num_mapping)\n",
    "batch_size = 64\n",
    "input_freq = 20\n",
    "hidden_size=256\n",
    "n_epochs = 1\n",
    "n_iters = 50\n"
   ]
  },
  {
   "cell_type": "code",
   "execution_count": 56,
   "metadata": {},
   "outputs": [],
   "source": [
    "model = Word_Predictor_RNN(input_freq=input_freq,hidden_size=hidden_size,n_categories=n_categories).cuda()\n",
    "wave_dataloader = DataLoader(waves_dataset, batch_size=batch_size,shuffle=True)\n",
    "criterion = nn.CrossEntropyLoss()\n",
    "optimizer = optim.SGD(model.parameters(), lr=0.01)"
   ]
  },
  {
   "cell_type": "code",
   "execution_count": null,
   "metadata": {
    "collapsed": true
   },
   "outputs": [],
   "source": [
    "print(len(wave_dataloader))"
   ]
  },
  {
   "cell_type": "markdown",
   "metadata": {},
   "source": [
    "# Model Training"
   ]
  },
  {
   "cell_type": "code",
   "execution_count": 59,
   "metadata": {},
   "outputs": [
    {
     "name": "stdout",
     "output_type": "stream",
     "text": [
      "Epoch Number : 0 Batch_Number: 0 Avg Loss: 0.05318392813205719\n"
     ]
    }
   ],
   "source": [
    "losses = np.zeros(n_epochs) # For plotting\n",
    "\n",
    "for epoch in range(n_epochs):\n",
    "\n",
    "    for i_batch, sample_batched in enumerate(wave_dataloader):\n",
    "        \n",
    "        _inputs,_labels = sample_batch(50,data['x'],data['y'])\n",
    "        inputs = torch.autograd.Variable(torch.from_numpy(_inputs).float())\n",
    "        targets = torch.autograd.Variable(torch.from_numpy(_labels))\n",
    "\n",
    "        inputs = torch.autograd.Variable(sample_batched['x'].cuda())\n",
    "        targets = torch.autograd.Variable(sample_batched['label'].cuda())\n",
    "        outputs = model(inputs, None)\n",
    "\n",
    "        optimizer.zero_grad()\n",
    "        loss = criterion(outputs, targets)\n",
    "        loss.backward()\n",
    "        optimizer.step()\n",
    "        losses[epoch] += loss.item()\n",
    "        if i_batch%200==0:\n",
    "            curr_avg_loss = losses[epoch]/(i_batch+1* len(inputs))\n",
    "            print(\"Epoch Number : {} Batch_Number: {} Avg Loss: {}\".format(epoch,i_batch,curr_avg_loss))\n",
    "        \n",
    "\n",
    "    if epoch > 0:\n",
    "        print(epoch, losses.data[epoch])\n",
    "\n",
    "    # Use some plotting library\n",
    "    # if epoch % 10 == 0:\n",
    "        # show_plot('inputs', _inputs, True)\n",
    "        # show_plot('outputs', outputs.data.view(-1), True)\n",
    "        # show_plot('losses', losses[:epoch] / n_iters)\n",
    "\n",
    "        # Generate a test\n",
    "        # outputs, hidden = model(inputs, False, 50)\n",
    "        # show_plot('generated', outputs.data.view(-1), True)\n",
    "\n"
   ]
  },
  {
   "cell_type": "code",
   "execution_count": null,
   "metadata": {
    "collapsed": true
   },
   "outputs": [],
   "source": []
  }
 ],
 "metadata": {
  "kernelspec": {
   "display_name": "py_torch",
   "language": "python",
   "name": "pr1"
  },
  "language_info": {
   "codemirror_mode": {
    "name": "ipython",
    "version": 3
   },
   "file_extension": ".py",
   "mimetype": "text/x-python",
   "name": "python",
   "nbconvert_exporter": "python",
   "pygments_lexer": "ipython3",
   "version": "3.5.6"
  }
 },
 "nbformat": 4,
 "nbformat_minor": 2
}
